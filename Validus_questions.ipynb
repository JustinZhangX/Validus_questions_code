{
  "nbformat": 4,
  "nbformat_minor": 0,
  "metadata": {
    "colab": {
      "provenance": []
    },
    "kernelspec": {
      "name": "python3",
      "display_name": "Python 3"
    },
    "language_info": {
      "name": "python"
    }
  },
  "cells": [
    {
      "cell_type": "markdown",
      "source": [
        "Question 1. Start from 2024-3-22, 16:00\n"
      ],
      "metadata": {
        "id": "oPhKiBcNuk6n"
      }
    },
    {
      "cell_type": "markdown",
      "source": [
        "Under risk neutral measure Q, the probability of each different final price of underlying S is\n",
        "\n",
        "$$Q(S_n=s_k^n)=Q(S_n=S_0u^{n-k}d^k = C_k^n(1-q)^kq^{n-k},$$\n",
        "where $u=1+v$, $d=1-v$ and $q=\\frac{1}{2}$ in our scenario.\n",
        "\n",
        "For a European option with payoff function $g(S_N)$ at time $N$, the time n fair price of the option is\n",
        "$$V^n=e^{-r(N-n)\\Delta t}E_Q[g(S_N)|F_n]$$,\n",
        "where in our case $r=0$, so no discounting term.\n",
        "With\n",
        "$$g(S_N)= \\max(0,K-S_N)$$\n",
        "for an European put option, then time-zero option price is,\n",
        "$$V^0=E_Q[g(S_N)]=\\sum_{k=0}^NC_k^N\\frac{1}{2^N}g(S_0(1+v)^{n-k}(1-v)^k)$$\n",
        "\n"
      ],
      "metadata": {
        "id": "n665sNK72nX4"
      }
    },
    {
      "cell_type": "code",
      "source": [
        "from math import comb\n",
        "from scipy import optimize\n",
        "import numpy as np\n",
        "import random\n",
        "import pandas as pd\n",
        "import matplotlib.pyplot as plt\n",
        "cashflow = pd.read_excel(\"Quantitative_Analyst_Case_Study_2024_Cashflow_Model.xlsx\")\n",
        "#global variable S_0\n",
        "S_0=1.28065\n",
        "\n",
        "def European_put_option(v, K, N):\n",
        "   possible_payoff_list = [1/2**N * comb(N, k) * max(0, K - S_0 * (1+v)**(N-k) *(1-v)**k) for k in range(N+1)]\n",
        "   return sum(possible_payoff_list)\n",
        ""
      ],
      "metadata": {
        "id": "NQW4_OOzusLu"
      },
      "execution_count": 144,
      "outputs": []
    },
    {
      "cell_type": "code",
      "source": [
        "V=European_put_option(0.5, 2, 10)\n",
        "V"
      ],
      "metadata": {
        "colab": {
          "base_uri": "https://localhost:8080/"
        },
        "id": "v_WA8wtWSv-R",
        "outputId": "e4e1e773-575b-4120-96e1-c1877ec948e2"
      },
      "execution_count": 145,
      "outputs": [
        {
          "output_type": "execute_result",
          "data": {
            "text/plain": [
              "1.3692244359970092"
            ]
          },
          "metadata": {},
          "execution_count": 145
        }
      ]
    },
    {
      "cell_type": "markdown",
      "source": [
        "Finish at 16:30"
      ],
      "metadata": {
        "id": "XRPiZQ9aCGf-"
      }
    },
    {
      "cell_type": "markdown",
      "source": [
        "Question 2. Start from 2024-03-25, 19:00."
      ],
      "metadata": {
        "id": "BstfnQY7CVls"
      }
    },
    {
      "cell_type": "markdown",
      "source": [
        "Brent's method:\n",
        "Advantage: Robust and reliable, always converge. Capable of handling non-smooth function, which appears in our case.\n",
        "Disadvantage: Computational overhead. Slower than Newton's method.\n",
        "\n",
        "Steps：\n",
        "\n",
        "1. Choose stopping tolerance, with same precision number of $S_0$, $\\delta = 0.00001$.\n",
        "2. Need to find points $a$ and $b$ such that $f(a)f(b) < 0$ and $0<a, b<1$.\n",
        "3. Use Brent's method existing in scipy package to find the root\n",
        "\n",
        "\n",
        "\n"
      ],
      "metadata": {
        "id": "8__Ou-Pk3KvM"
      }
    },
    {
      "cell_type": "code",
      "source": [
        "TOL = 0.00001\n",
        "def find_root_intervals(K, V, N):\n",
        "   intervals=[]\n",
        "   current_state = TOL\n",
        "   while (current_state+0.1) < 1:\n",
        "      next_state = current_state + 0.1\n",
        "      if (V - European_put_option(current_state, K, N)) * (V - European_put_option(next_state, K, N)) < 0:\n",
        "        intervals.append([current_state, next_state])\n",
        "      current_state = next_state\n",
        "   return intervals\n",
        "\n",
        "\n",
        "def calibrate_volatilities(K, V, N):\n",
        "  intervals = find_root_intervals(K, V, N)\n",
        "  def root_function(v, strike=K, value=V, period=N):\n",
        "    return value - European_put_option(v, strike, period)\n",
        "  volatilities = [optimize.brentq(root_function, x[0], x[1], xtol=TOL) for x in intervals]\n",
        "  return volatilities\n",
        ""
      ],
      "metadata": {
        "id": "MPJn_y6ACadm"
      },
      "execution_count": 146,
      "outputs": []
    },
    {
      "cell_type": "code",
      "source": [
        "find_root_intervals(2, 1.36922, 10)"
      ],
      "metadata": {
        "colab": {
          "base_uri": "https://localhost:8080/"
        },
        "id": "L4il5zm8Sg8j",
        "outputId": "50eac17d-9d7a-4f36-ebac-6f434a2933ec"
      },
      "execution_count": 147,
      "outputs": [
        {
          "output_type": "execute_result",
          "data": {
            "text/plain": [
              "[[0.40001, 0.50001]]"
            ]
          },
          "metadata": {},
          "execution_count": 147
        }
      ]
    },
    {
      "cell_type": "code",
      "source": [
        "calibrate_volatilities(2, 1.36922, 10)"
      ],
      "metadata": {
        "colab": {
          "base_uri": "https://localhost:8080/"
        },
        "id": "00lGuOcjTy8o",
        "outputId": "becc02a7-56f2-4b07-8dda-775a1bc123f6"
      },
      "execution_count": 148,
      "outputs": [
        {
          "output_type": "execute_result",
          "data": {
            "text/plain": [
              "[0.49999800628722907]"
            ]
          },
          "metadata": {},
          "execution_count": 148
        }
      ]
    },
    {
      "cell_type": "markdown",
      "source": [
        "Question 2. Finish at 2024-03-25, 20:30."
      ],
      "metadata": {
        "id": "Q9aUCB_CUlvh"
      }
    },
    {
      "cell_type": "markdown",
      "source": [
        "Question 3, start from 2024-03-26, 11:00"
      ],
      "metadata": {
        "id": "5_USrpuCEXE_"
      }
    },
    {
      "cell_type": "markdown",
      "source": [
        "Construct a probability grid for all kinds of state with each $N=0,1,\\dots,n$, then calculate expectation reversely from $N=n$ to $N=0$\n",
        "\n",
        "\n",
        "\n",
        "\n",
        "\n",
        "\n",
        "\n",
        "\n",
        "\n",
        "\n",
        "\n",
        "\n",
        "\n",
        "\n"
      ],
      "metadata": {
        "id": "5ncAC-QHgMDe"
      }
    },
    {
      "cell_type": "code",
      "source": [
        "def calculate_running_max_expectation(S0,v,N):\n",
        "  prob = np.zeros((N+1,N+1))\n",
        "  state = np.zeros((N,N))\n",
        "  # construct probability matrix\n",
        "  for i in range(N+1):\n",
        "    for j in range(i,N+1):\n",
        "      prob[i,j] = comb(j,i)/2**j\n",
        "  # calculate expectation reversely\n",
        "  for j in reversed(range(N)):\n",
        "    for i in range(j+1):\n",
        "       state[i,j]=prob[i,j+1]*(1+v)**(j+1-i)+prob[i+1,j+1]*(1+v)**(j-i)\n",
        "  return state[0,0]*S0"
      ],
      "metadata": {
        "id": "IrAeB3L5g-S_"
      },
      "execution_count": 149,
      "outputs": []
    },
    {
      "cell_type": "code",
      "source": [
        "calculate_running_max_expectation(1.28065,0.05,10)"
      ],
      "metadata": {
        "colab": {
          "base_uri": "https://localhost:8080/"
        },
        "id": "kD92nPcohPgh",
        "outputId": "c30e588f-600a-4136-ed1b-b5049e8321a5"
      },
      "execution_count": 150,
      "outputs": [
        {
          "output_type": "execute_result",
          "data": {
            "text/plain": [
              "1.31266625"
            ]
          },
          "metadata": {},
          "execution_count": 150
        }
      ]
    },
    {
      "cell_type": "markdown",
      "source": [
        "Finish at 2024-03-26,11:30\n"
      ],
      "metadata": {
        "id": "VrvdMP4NZm6l"
      }
    },
    {
      "cell_type": "markdown",
      "source": [
        "Question 4, start at 1:36"
      ],
      "metadata": {
        "id": "pWO-jHp4Zqx6"
      }
    },
    {
      "cell_type": "code",
      "source": [
        "cashflow"
      ],
      "metadata": {
        "colab": {
          "base_uri": "https://localhost:8080/",
          "height": 238
        },
        "id": "_DjiYxkgbW7G",
        "outputId": "b6b0fe97-1a7c-47ca-a415-ea712f4b99e4"
      },
      "execution_count": 151,
      "outputs": [
        {
          "output_type": "execute_result",
          "data": {
            "text/plain": [
              "        Time       Fund Cashflow Type  \\\n",
              "0 2024-03-31  Validus V        Equity   \n",
              "1 2025-03-31  Validus V      Proceeds   \n",
              "2 2026-03-31  Validus V      Proceeds   \n",
              "3 2027-03-31  Validus V      Proceeds   \n",
              "4 2028-03-31  Validus V      Proceeds   \n",
              "5 2029-03-31  Validus V      Proceeds   \n",
              "\n",
              "   Cashflow Amount (in Local Asset Currecny) Local Asset Currency  \\\n",
              "0                                 -100000000                  GBP   \n",
              "1                                   15000000                  GBP   \n",
              "2                                   15000000                  GBP   \n",
              "3                                   15000000                  GBP   \n",
              "4                                   15000000                  GBP   \n",
              "5                                  115000000                  GBP   \n",
              "\n",
              "  Fund Currency  Base Case IRR  \n",
              "0           USD       0.149925  \n",
              "1           USD            NaN  \n",
              "2           USD            NaN  \n",
              "3           USD            NaN  \n",
              "4           USD            NaN  \n",
              "5           USD            NaN  "
            ],
            "text/html": [
              "\n",
              "  <div id=\"df-254caa88-b9be-4111-8984-82013165dae3\" class=\"colab-df-container\">\n",
              "    <div>\n",
              "<style scoped>\n",
              "    .dataframe tbody tr th:only-of-type {\n",
              "        vertical-align: middle;\n",
              "    }\n",
              "\n",
              "    .dataframe tbody tr th {\n",
              "        vertical-align: top;\n",
              "    }\n",
              "\n",
              "    .dataframe thead th {\n",
              "        text-align: right;\n",
              "    }\n",
              "</style>\n",
              "<table border=\"1\" class=\"dataframe\">\n",
              "  <thead>\n",
              "    <tr style=\"text-align: right;\">\n",
              "      <th></th>\n",
              "      <th>Time</th>\n",
              "      <th>Fund</th>\n",
              "      <th>Cashflow Type</th>\n",
              "      <th>Cashflow Amount (in Local Asset Currecny)</th>\n",
              "      <th>Local Asset Currency</th>\n",
              "      <th>Fund Currency</th>\n",
              "      <th>Base Case IRR</th>\n",
              "    </tr>\n",
              "  </thead>\n",
              "  <tbody>\n",
              "    <tr>\n",
              "      <th>0</th>\n",
              "      <td>2024-03-31</td>\n",
              "      <td>Validus V</td>\n",
              "      <td>Equity</td>\n",
              "      <td>-100000000</td>\n",
              "      <td>GBP</td>\n",
              "      <td>USD</td>\n",
              "      <td>0.149925</td>\n",
              "    </tr>\n",
              "    <tr>\n",
              "      <th>1</th>\n",
              "      <td>2025-03-31</td>\n",
              "      <td>Validus V</td>\n",
              "      <td>Proceeds</td>\n",
              "      <td>15000000</td>\n",
              "      <td>GBP</td>\n",
              "      <td>USD</td>\n",
              "      <td>NaN</td>\n",
              "    </tr>\n",
              "    <tr>\n",
              "      <th>2</th>\n",
              "      <td>2026-03-31</td>\n",
              "      <td>Validus V</td>\n",
              "      <td>Proceeds</td>\n",
              "      <td>15000000</td>\n",
              "      <td>GBP</td>\n",
              "      <td>USD</td>\n",
              "      <td>NaN</td>\n",
              "    </tr>\n",
              "    <tr>\n",
              "      <th>3</th>\n",
              "      <td>2027-03-31</td>\n",
              "      <td>Validus V</td>\n",
              "      <td>Proceeds</td>\n",
              "      <td>15000000</td>\n",
              "      <td>GBP</td>\n",
              "      <td>USD</td>\n",
              "      <td>NaN</td>\n",
              "    </tr>\n",
              "    <tr>\n",
              "      <th>4</th>\n",
              "      <td>2028-03-31</td>\n",
              "      <td>Validus V</td>\n",
              "      <td>Proceeds</td>\n",
              "      <td>15000000</td>\n",
              "      <td>GBP</td>\n",
              "      <td>USD</td>\n",
              "      <td>NaN</td>\n",
              "    </tr>\n",
              "    <tr>\n",
              "      <th>5</th>\n",
              "      <td>2029-03-31</td>\n",
              "      <td>Validus V</td>\n",
              "      <td>Proceeds</td>\n",
              "      <td>115000000</td>\n",
              "      <td>GBP</td>\n",
              "      <td>USD</td>\n",
              "      <td>NaN</td>\n",
              "    </tr>\n",
              "  </tbody>\n",
              "</table>\n",
              "</div>\n",
              "    <div class=\"colab-df-buttons\">\n",
              "\n",
              "  <div class=\"colab-df-container\">\n",
              "    <button class=\"colab-df-convert\" onclick=\"convertToInteractive('df-254caa88-b9be-4111-8984-82013165dae3')\"\n",
              "            title=\"Convert this dataframe to an interactive table.\"\n",
              "            style=\"display:none;\">\n",
              "\n",
              "  <svg xmlns=\"http://www.w3.org/2000/svg\" height=\"24px\" viewBox=\"0 -960 960 960\">\n",
              "    <path d=\"M120-120v-720h720v720H120Zm60-500h600v-160H180v160Zm220 220h160v-160H400v160Zm0 220h160v-160H400v160ZM180-400h160v-160H180v160Zm440 0h160v-160H620v160ZM180-180h160v-160H180v160Zm440 0h160v-160H620v160Z\"/>\n",
              "  </svg>\n",
              "    </button>\n",
              "\n",
              "  <style>\n",
              "    .colab-df-container {\n",
              "      display:flex;\n",
              "      gap: 12px;\n",
              "    }\n",
              "\n",
              "    .colab-df-convert {\n",
              "      background-color: #E8F0FE;\n",
              "      border: none;\n",
              "      border-radius: 50%;\n",
              "      cursor: pointer;\n",
              "      display: none;\n",
              "      fill: #1967D2;\n",
              "      height: 32px;\n",
              "      padding: 0 0 0 0;\n",
              "      width: 32px;\n",
              "    }\n",
              "\n",
              "    .colab-df-convert:hover {\n",
              "      background-color: #E2EBFA;\n",
              "      box-shadow: 0px 1px 2px rgba(60, 64, 67, 0.3), 0px 1px 3px 1px rgba(60, 64, 67, 0.15);\n",
              "      fill: #174EA6;\n",
              "    }\n",
              "\n",
              "    .colab-df-buttons div {\n",
              "      margin-bottom: 4px;\n",
              "    }\n",
              "\n",
              "    [theme=dark] .colab-df-convert {\n",
              "      background-color: #3B4455;\n",
              "      fill: #D2E3FC;\n",
              "    }\n",
              "\n",
              "    [theme=dark] .colab-df-convert:hover {\n",
              "      background-color: #434B5C;\n",
              "      box-shadow: 0px 1px 3px 1px rgba(0, 0, 0, 0.15);\n",
              "      filter: drop-shadow(0px 1px 2px rgba(0, 0, 0, 0.3));\n",
              "      fill: #FFFFFF;\n",
              "    }\n",
              "  </style>\n",
              "\n",
              "    <script>\n",
              "      const buttonEl =\n",
              "        document.querySelector('#df-254caa88-b9be-4111-8984-82013165dae3 button.colab-df-convert');\n",
              "      buttonEl.style.display =\n",
              "        google.colab.kernel.accessAllowed ? 'block' : 'none';\n",
              "\n",
              "      async function convertToInteractive(key) {\n",
              "        const element = document.querySelector('#df-254caa88-b9be-4111-8984-82013165dae3');\n",
              "        const dataTable =\n",
              "          await google.colab.kernel.invokeFunction('convertToInteractive',\n",
              "                                                    [key], {});\n",
              "        if (!dataTable) return;\n",
              "\n",
              "        const docLinkHtml = 'Like what you see? Visit the ' +\n",
              "          '<a target=\"_blank\" href=https://colab.research.google.com/notebooks/data_table.ipynb>data table notebook</a>'\n",
              "          + ' to learn more about interactive tables.';\n",
              "        element.innerHTML = '';\n",
              "        dataTable['output_type'] = 'display_data';\n",
              "        await google.colab.output.renderOutput(dataTable, element);\n",
              "        const docLink = document.createElement('div');\n",
              "        docLink.innerHTML = docLinkHtml;\n",
              "        element.appendChild(docLink);\n",
              "      }\n",
              "    </script>\n",
              "  </div>\n",
              "\n",
              "\n",
              "<div id=\"df-4c01f615-8c91-4b4f-bfec-a94ef15931c7\">\n",
              "  <button class=\"colab-df-quickchart\" onclick=\"quickchart('df-4c01f615-8c91-4b4f-bfec-a94ef15931c7')\"\n",
              "            title=\"Suggest charts\"\n",
              "            style=\"display:none;\">\n",
              "\n",
              "<svg xmlns=\"http://www.w3.org/2000/svg\" height=\"24px\"viewBox=\"0 0 24 24\"\n",
              "     width=\"24px\">\n",
              "    <g>\n",
              "        <path d=\"M19 3H5c-1.1 0-2 .9-2 2v14c0 1.1.9 2 2 2h14c1.1 0 2-.9 2-2V5c0-1.1-.9-2-2-2zM9 17H7v-7h2v7zm4 0h-2V7h2v10zm4 0h-2v-4h2v4z\"/>\n",
              "    </g>\n",
              "</svg>\n",
              "  </button>\n",
              "\n",
              "<style>\n",
              "  .colab-df-quickchart {\n",
              "      --bg-color: #E8F0FE;\n",
              "      --fill-color: #1967D2;\n",
              "      --hover-bg-color: #E2EBFA;\n",
              "      --hover-fill-color: #174EA6;\n",
              "      --disabled-fill-color: #AAA;\n",
              "      --disabled-bg-color: #DDD;\n",
              "  }\n",
              "\n",
              "  [theme=dark] .colab-df-quickchart {\n",
              "      --bg-color: #3B4455;\n",
              "      --fill-color: #D2E3FC;\n",
              "      --hover-bg-color: #434B5C;\n",
              "      --hover-fill-color: #FFFFFF;\n",
              "      --disabled-bg-color: #3B4455;\n",
              "      --disabled-fill-color: #666;\n",
              "  }\n",
              "\n",
              "  .colab-df-quickchart {\n",
              "    background-color: var(--bg-color);\n",
              "    border: none;\n",
              "    border-radius: 50%;\n",
              "    cursor: pointer;\n",
              "    display: none;\n",
              "    fill: var(--fill-color);\n",
              "    height: 32px;\n",
              "    padding: 0;\n",
              "    width: 32px;\n",
              "  }\n",
              "\n",
              "  .colab-df-quickchart:hover {\n",
              "    background-color: var(--hover-bg-color);\n",
              "    box-shadow: 0 1px 2px rgba(60, 64, 67, 0.3), 0 1px 3px 1px rgba(60, 64, 67, 0.15);\n",
              "    fill: var(--button-hover-fill-color);\n",
              "  }\n",
              "\n",
              "  .colab-df-quickchart-complete:disabled,\n",
              "  .colab-df-quickchart-complete:disabled:hover {\n",
              "    background-color: var(--disabled-bg-color);\n",
              "    fill: var(--disabled-fill-color);\n",
              "    box-shadow: none;\n",
              "  }\n",
              "\n",
              "  .colab-df-spinner {\n",
              "    border: 2px solid var(--fill-color);\n",
              "    border-color: transparent;\n",
              "    border-bottom-color: var(--fill-color);\n",
              "    animation:\n",
              "      spin 1s steps(1) infinite;\n",
              "  }\n",
              "\n",
              "  @keyframes spin {\n",
              "    0% {\n",
              "      border-color: transparent;\n",
              "      border-bottom-color: var(--fill-color);\n",
              "      border-left-color: var(--fill-color);\n",
              "    }\n",
              "    20% {\n",
              "      border-color: transparent;\n",
              "      border-left-color: var(--fill-color);\n",
              "      border-top-color: var(--fill-color);\n",
              "    }\n",
              "    30% {\n",
              "      border-color: transparent;\n",
              "      border-left-color: var(--fill-color);\n",
              "      border-top-color: var(--fill-color);\n",
              "      border-right-color: var(--fill-color);\n",
              "    }\n",
              "    40% {\n",
              "      border-color: transparent;\n",
              "      border-right-color: var(--fill-color);\n",
              "      border-top-color: var(--fill-color);\n",
              "    }\n",
              "    60% {\n",
              "      border-color: transparent;\n",
              "      border-right-color: var(--fill-color);\n",
              "    }\n",
              "    80% {\n",
              "      border-color: transparent;\n",
              "      border-right-color: var(--fill-color);\n",
              "      border-bottom-color: var(--fill-color);\n",
              "    }\n",
              "    90% {\n",
              "      border-color: transparent;\n",
              "      border-bottom-color: var(--fill-color);\n",
              "    }\n",
              "  }\n",
              "</style>\n",
              "\n",
              "  <script>\n",
              "    async function quickchart(key) {\n",
              "      const quickchartButtonEl =\n",
              "        document.querySelector('#' + key + ' button');\n",
              "      quickchartButtonEl.disabled = true;  // To prevent multiple clicks.\n",
              "      quickchartButtonEl.classList.add('colab-df-spinner');\n",
              "      try {\n",
              "        const charts = await google.colab.kernel.invokeFunction(\n",
              "            'suggestCharts', [key], {});\n",
              "      } catch (error) {\n",
              "        console.error('Error during call to suggestCharts:', error);\n",
              "      }\n",
              "      quickchartButtonEl.classList.remove('colab-df-spinner');\n",
              "      quickchartButtonEl.classList.add('colab-df-quickchart-complete');\n",
              "    }\n",
              "    (() => {\n",
              "      let quickchartButtonEl =\n",
              "        document.querySelector('#df-4c01f615-8c91-4b4f-bfec-a94ef15931c7 button');\n",
              "      quickchartButtonEl.style.display =\n",
              "        google.colab.kernel.accessAllowed ? 'block' : 'none';\n",
              "    })();\n",
              "  </script>\n",
              "</div>\n",
              "    </div>\n",
              "  </div>\n"
            ],
            "application/vnd.google.colaboratory.intrinsic+json": {
              "type": "dataframe",
              "variable_name": "cashflow",
              "summary": "{\n  \"name\": \"cashflow\",\n  \"rows\": 6,\n  \"fields\": [\n    {\n      \"column\": \"Time\",\n      \"properties\": {\n        \"dtype\": \"date\",\n        \"min\": \"2024-03-31 00:00:00\",\n        \"max\": \"2029-03-31 00:00:00\",\n        \"num_unique_values\": 6,\n        \"samples\": [\n          \"2024-03-31 00:00:00\",\n          \"2025-03-31 00:00:00\",\n          \"2029-03-31 00:00:00\"\n        ],\n        \"semantic_type\": \"\",\n        \"description\": \"\"\n      }\n    },\n    {\n      \"column\": \"Fund\",\n      \"properties\": {\n        \"dtype\": \"category\",\n        \"num_unique_values\": 1,\n        \"samples\": [\n          \"Validus V\"\n        ],\n        \"semantic_type\": \"\",\n        \"description\": \"\"\n      }\n    },\n    {\n      \"column\": \"Cashflow Type\",\n      \"properties\": {\n        \"dtype\": \"category\",\n        \"num_unique_values\": 2,\n        \"samples\": [\n          \"Proceeds\"\n        ],\n        \"semantic_type\": \"\",\n        \"description\": \"\"\n      }\n    },\n    {\n      \"column\": \"Cashflow Amount (in Local Asset Currecny)\",\n      \"properties\": {\n        \"dtype\": \"number\",\n        \"std\": 68099192,\n        \"min\": -100000000,\n        \"max\": 115000000,\n        \"num_unique_values\": 3,\n        \"samples\": [\n          -100000000\n        ],\n        \"semantic_type\": \"\",\n        \"description\": \"\"\n      }\n    },\n    {\n      \"column\": \"Local Asset Currency\",\n      \"properties\": {\n        \"dtype\": \"category\",\n        \"num_unique_values\": 1,\n        \"samples\": [\n          \"GBP\"\n        ],\n        \"semantic_type\": \"\",\n        \"description\": \"\"\n      }\n    },\n    {\n      \"column\": \"Fund Currency\",\n      \"properties\": {\n        \"dtype\": \"category\",\n        \"num_unique_values\": 1,\n        \"samples\": [\n          \"USD\"\n        ],\n        \"semantic_type\": \"\",\n        \"description\": \"\"\n      }\n    },\n    {\n      \"column\": \"Base Case IRR\",\n      \"properties\": {\n        \"dtype\": \"number\",\n        \"std\": null,\n        \"min\": 0.14992492794990545,\n        \"max\": 0.14992492794990545,\n        \"num_unique_values\": 1,\n        \"samples\": [\n          0.14992492794990545\n        ],\n        \"semantic_type\": \"\",\n        \"description\": \"\"\n      }\n    }\n  ]\n}"
            }
          },
          "metadata": {},
          "execution_count": 151
        }
      ]
    },
    {
      "cell_type": "markdown",
      "source": [
        "First define a random path of fx rate based on the defined binary tree."
      ],
      "metadata": {
        "id": "Vb27PcAnscCU"
      }
    },
    {
      "cell_type": "code",
      "source": [
        "def generate_fx_path(v, N, S0):\n",
        "    up_probability = 1/2\n",
        "    down_probability = 1/2\n",
        "    possible_outcomes = [1+v, 1-v]\n",
        "    probabilities = [up_probability, down_probability]\n",
        "    direction = random.choices(possible_outcomes, weights=probabilities, k=N)\n",
        "    path = np.cumprod(np.array(direction))\n",
        "    jump_path = [path[i]*S0 for i in range(N) if i%2==1]\n",
        "    return [S0] + jump_path"
      ],
      "metadata": {
        "id": "953yF0xmbYhv"
      },
      "execution_count": 152,
      "outputs": []
    },
    {
      "cell_type": "markdown",
      "source": [
        "Calculate IRR based on formula:\n",
        "$$\n",
        "0 = NPV = \\sum^T_{t=1}\\frac{CF_t}{(1+IRR)^t}-CF_0\n",
        "$$\n"
      ],
      "metadata": {
        "id": "GIkoVQMNssaa"
      }
    },
    {
      "cell_type": "code",
      "source": [
        "def calculate_IRR(cashflow, S0, v, N):\n",
        "   local_ccy_cf = cashflow[\"Cashflow Amount (in Local Asset Currecny)\"]\n",
        "   fund_ccy_cf = local_ccy_cf*generate_fx_path(v, N, S0)\n",
        "   f = lambda x: fund_ccy_cf[0]+sum([(1+x)**(-1.*i)*fund_ccy_cf[i] for i in range(1,len(fund_ccy_cf))])\n",
        "   roots = optimize.fsolve(f,[0,1])\n",
        "   IRR = [round(x,8) for x in roots if x>0 and x<1]\n",
        "   if len(set(IRR)) !=1:\n",
        "    raise ValueError(\"Check cashflow input or there may be more than one value fits in IRR formula\")\n",
        "   return IRR[0]"
      ],
      "metadata": {
        "id": "5aPMmeQlgi_H"
      },
      "execution_count": 153,
      "outputs": []
    },
    {
      "cell_type": "code",
      "source": [
        "calculate_IRR(cashflow, 1.28065, 0.05, 10)"
      ],
      "metadata": {
        "colab": {
          "base_uri": "https://localhost:8080/"
        },
        "id": "8ojEnmIKgnUt",
        "outputId": "51157057-f6bb-40aa-e252-fff0715ad558"
      },
      "execution_count": 154,
      "outputs": [
        {
          "output_type": "execute_result",
          "data": {
            "text/plain": [
              "0.14879486"
            ]
          },
          "metadata": {},
          "execution_count": 154
        }
      ]
    },
    {
      "cell_type": "markdown",
      "source": [
        "Simulate the random path and rerun calculate_IRR for 5000 and 10000 times to draw historical graph. There are 1024 possible different paths, so need to simulate more than 1024 paths."
      ],
      "metadata": {
        "id": "f9yGkJPl2xGQ"
      }
    },
    {
      "cell_type": "code",
      "source": [
        "def perform_simulation(n_times):\n",
        "   S0=1.28065\n",
        "   v=0.05\n",
        "   N=10\n",
        "   store_IRRs = []\n",
        "   for i in range(n_times):\n",
        "    IRR=calculate_IRR(cashflow, S0, v, N)\n",
        "    store_IRRs.append(IRR)\n",
        "   return store_IRRs"
      ],
      "metadata": {
        "id": "xrlAvEj33amG"
      },
      "execution_count": 155,
      "outputs": []
    },
    {
      "cell_type": "code",
      "source": [
        "simluation_5000 = perform_simulation(5000)\n",
        "num_bins = 50\n",
        "# the histogram of the data\n",
        "plt.hist(simluation_5000, num_bins, density=True)\n",
        "plt.xlabel('IRR values')\n",
        "plt.ylabel('Probability density/%')\n",
        "plt.title('Histogram of normal distribution sample with n=5000')"
      ],
      "metadata": {
        "colab": {
          "base_uri": "https://localhost:8080/",
          "height": 541
        },
        "id": "Vjpaxbsu_AU1",
        "outputId": "7d07200a-ff6d-4b05-fac1-768aa84481be"
      },
      "execution_count": 156,
      "outputs": [
        {
          "output_type": "stream",
          "name": "stderr",
          "text": [
            "/usr/local/lib/python3.10/dist-packages/scipy/optimize/_minpack_py.py:177: RuntimeWarning: The iteration is not making good progress, as measured by the \n",
            "  improvement from the last ten iterations.\n",
            "  warnings.warn(msg, RuntimeWarning)\n"
          ]
        },
        {
          "output_type": "execute_result",
          "data": {
            "text/plain": [
              "Text(0.5, 1.0, 'Histogram of normal distribution sample with n=5000')"
            ]
          },
          "metadata": {},
          "execution_count": 156
        },
        {
          "output_type": "display_data",
          "data": {
            "text/plain": [
              "<Figure size 640x480 with 1 Axes>"
            ],
            "image/png": "[encoded data removed]"
          },
          "metadata": {}
        }
      ]
    },
    {
      "cell_type": "code",
      "source": [
        "simluation_10000 = perform_simulation(10000)\n",
        "# the histogram of the data\n",
        "plt.hist(simluation_10000, num_bins, density=True)\n",
        "plt.xlabel('IRR values')\n",
        "plt.ylabel('Probability density/%')\n",
        "plt.title('Histogram of normal distribution sample with n=10000')"
      ],
      "metadata": {
        "colab": {
          "base_uri": "https://localhost:8080/",
          "height": 489
        },
        "id": "BtC28QfN_DCL",
        "outputId": "7828f6ea-0e5e-438f-9b76-bf6ea9b0f130"
      },
      "execution_count": 157,
      "outputs": [
        {
          "output_type": "execute_result",
          "data": {
            "text/plain": [
              "Text(0.5, 1.0, 'Histogram of normal distribution sample with n=10000')"
            ]
          },
          "metadata": {},
          "execution_count": 157
        },
        {
          "output_type": "display_data",
          "data": {
            "text/plain": [
              "<Figure size 640x480 with 1 Axes>"
            ],
            "image/png": "[encoded data removed]"
          },
          "metadata": {}
        }
      ]
    },
    {
      "cell_type": "code",
      "source": [
        "simluation_15000 = perform_simulation(15000)\n",
        "# the histogram of the data\n",
        "plt.hist(simluation_15000, num_bins, density=True)\n",
        "plt.xlabel('IRR values')\n",
        "plt.ylabel('Probability density/%')\n",
        "plt.title('Histogram of normal distribution sample with n=15000')"
      ],
      "metadata": {
        "colab": {
          "base_uri": "https://localhost:8080/",
          "height": 489
        },
        "id": "uone1S_m52Q2",
        "outputId": "a3119823-c41b-4142-969b-bfd52fb4bb89"
      },
      "execution_count": 158,
      "outputs": [
        {
          "output_type": "execute_result",
          "data": {
            "text/plain": [
              "Text(0.5, 1.0, 'Histogram of normal distribution sample with n=15000')"
            ]
          },
          "metadata": {},
          "execution_count": 158
        },
        {
          "output_type": "display_data",
          "data": {
            "text/plain": [
              "<Figure size 640x480 with 1 Axes>"
            ],
            "image/png": "[encoded data removed]"
          },
          "metadata": {}
        }
      ]
    },
    {
      "cell_type": "markdown",
      "source": [
        "After a few runs with $n=5000, n=10000$ and $n=15000$, the distribution is close to be a symmetric kind of distribution but sligtly skewed to the left, with centre slightly off and to the right of the initial Base Case IRR 15%. There is a significant number of counts around $(0.05, 0.06)$.\n",
        "\n",
        "The ultimate goal of IRR is to identify the rate of discount. From our simulations and data visualtions, clearly discounting rate should be around 1/(1+5.5%). 5.5% is close to current Fed Fund rate 5.5% or GBP Bank of England Rate 5.25%. If the FX rate curve is correct, this rate curve cound potentially used for foward rate projection and as disounting curve as well."
      ],
      "metadata": {
        "id": "xHLPfIfx9rD9"
      }
    },
    {
      "cell_type": "markdown",
      "source": [
        "Finishes at 4:30\n"
      ],
      "metadata": {
        "id": "ZxDDng44CJhB"
      }
    },
    {
      "cell_type": "markdown",
      "source": [
        "Question 5 starts at 9:30"
      ],
      "metadata": {
        "id": "UL18mZV1CNgU"
      }
    },
    {
      "cell_type": "markdown",
      "source": [
        "Use Question 1's function then we can have a simple rate European put option, then for fair market value of our GBPUER European put option is\n",
        "$$\n",
        "Premium = V_0 * Notional\n",
        "$$"
      ],
      "metadata": {
        "id": "QVA8ZFlJFxec"
      }
    },
    {
      "cell_type": "code",
      "source": [
        "premium = 1e8 * European_put_option(0.05, 1.28065, 10)\n",
        "premium"
      ],
      "metadata": {
        "colab": {
          "base_uri": "https://localhost:8080/"
        },
        "id": "OfuTI9vsCS1_",
        "outputId": "81951ff4-6232-4be0-a07f-47ae0c00026c"
      },
      "execution_count": 159,
      "outputs": [
        {
          "output_type": "execute_result",
          "data": {
            "text/plain": [
              "8048787.27535706"
            ]
          },
          "metadata": {},
          "execution_count": 159
        }
      ]
    },
    {
      "cell_type": "markdown",
      "source": [
        "Therefore, the option premium is\n",
        "£80,487,872.7535706."
      ],
      "metadata": {
        "id": "Tbef6cc1IHBr"
      }
    },
    {
      "cell_type": "markdown",
      "source": [
        "Finish at 9:40."
      ],
      "metadata": {
        "id": "R9yDfE3VIitE"
      }
    },
    {
      "cell_type": "markdown",
      "source": [
        "Question 6 starts from 9:40."
      ],
      "metadata": {
        "id": "gOCEEAHgIlgo"
      }
    },
    {
      "cell_type": "markdown",
      "source": [
        "For the hedged portfolio, now we have two more cashflow from our hedge, the initial pay in premium and the final payoff."
      ],
      "metadata": {
        "id": "qtTdQ7XtIp_o"
      }
    },
    {
      "cell_type": "code",
      "source": [
        "def calculate_hedged_IRR(cashflow, S0, v, N, K):\n",
        "   local_ccy_cf = cashflow[\"Cashflow Amount (in Local Asset Currecny)\"]\n",
        "   fund_ccy_cf = local_ccy_cf*generate_fx_path(v, N, S0)\n",
        "   f = lambda x: (premium+fund_ccy_cf[0])+sum([(1+x)**(-1.*i)*fund_ccy_cf[i] for i in range(1,len(fund_ccy_cf))])+1e8*max(0,K-generate_fx_path(v, N, S0)[-1])\n",
        "   roots = optimize.fsolve(f,[0,1])\n",
        "   IRR = [round(x,15) for x in roots if x>0 and x<1]\n",
        "   return IRR\n",
        "\n",
        "def perform_simulation(n_times):\n",
        "   S0=1.28065\n",
        "   v=0.05\n",
        "   N=10\n",
        "   K=1.28065\n",
        "   store_IRRs = []\n",
        "   for i in range(n_times):\n",
        "    IRR=calculate_hedged_IRR(cashflow, S0, v, N, K)\n",
        "    store_IRRs+=IRR\n",
        "   return store_IRRs"
      ],
      "metadata": {
        "id": "wfWYrILWRTDR"
      },
      "execution_count": 160,
      "outputs": []
    },
    {
      "cell_type": "code",
      "source": [
        "S0=1.28065\n",
        "v=0.05\n",
        "N=10\n",
        "K=1.28065\n",
        "calculate_hedged_IRR(cashflow, S0, v, N, K)\n"
      ],
      "metadata": {
        "colab": {
          "base_uri": "https://localhost:8080/"
        },
        "id": "G2HkklfjTxkk",
        "outputId": "2490ba47-adc8-432d-b395-bcf072915ac7"
      },
      "execution_count": 161,
      "outputs": [
        {
          "output_type": "execute_result",
          "data": {
            "text/plain": [
              "[0.321212267881242, 0.674485159744325]"
            ]
          },
          "metadata": {},
          "execution_count": 161
        }
      ]
    },
    {
      "cell_type": "code",
      "source": [
        "simluation_5000 = perform_simulation(5000)\n",
        "# the histogram of the data\n",
        "plt.hist(simluation_5000, num_bins, density=True)\n",
        "plt.xlabel('IRR values')\n",
        "plt.ylabel('Probability density/%')\n",
        "plt.title('Histogram of normal distribution sample with n=5000')"
      ],
      "metadata": {
        "colab": {
          "base_uri": "https://localhost:8080/",
          "height": 541
        },
        "id": "v7dv0tTjTR7Z",
        "outputId": "6b3d4130-bb91-44c3-c756-cbc66bf46f61"
      },
      "execution_count": 162,
      "outputs": [
        {
          "output_type": "stream",
          "name": "stderr",
          "text": [
            "/usr/local/lib/python3.10/dist-packages/scipy/optimize/_minpack_py.py:177: RuntimeWarning: The iteration is not making good progress, as measured by the \n",
            "  improvement from the last five Jacobian evaluations.\n",
            "  warnings.warn(msg, RuntimeWarning)\n"
          ]
        },
        {
          "output_type": "execute_result",
          "data": {
            "text/plain": [
              "Text(0.5, 1.0, 'Histogram of normal distribution sample with n=5000')"
            ]
          },
          "metadata": {},
          "execution_count": 162
        },
        {
          "output_type": "display_data",
          "data": {
            "text/plain": [
              "<Figure size 640x480 with 1 Axes>"
            ],
            "image/png": "[encoded data removed]"
          },
          "metadata": {}
        }
      ]
    },
    {
      "cell_type": "code",
      "source": [
        "simluation_10000 = perform_simulation(10000)\n",
        "# the histogram of the data\n",
        "plt.hist(simluation_10000, num_bins, density=True)\n",
        "plt.xlabel('IRR values')\n",
        "plt.ylabel('Probability density/%')\n",
        "plt.title('Histogram of normal distribution sample with n=10000')"
      ],
      "metadata": {
        "colab": {
          "base_uri": "https://localhost:8080/",
          "height": 489
        },
        "id": "4kAoD1_3WADu",
        "outputId": "152ee88f-a665-4587-f4e4-17d3f4f07b13"
      },
      "execution_count": 163,
      "outputs": [
        {
          "output_type": "execute_result",
          "data": {
            "text/plain": [
              "Text(0.5, 1.0, 'Histogram of normal distribution sample with n=10000')"
            ]
          },
          "metadata": {},
          "execution_count": 163
        },
        {
          "output_type": "display_data",
          "data": {
            "text/plain": [
              "<Figure size 640x480 with 1 Axes>"
            ],
            "image/png": "[encoded data removed]"
          },
          "metadata": {}
        }
      ]
    },
    {
      "cell_type": "code",
      "source": [
        "simluation_15000 = perform_simulation(15000)\n",
        "# the histogram of the data\n",
        "plt.hist(simluation_15000, num_bins, density=True)\n",
        "plt.xlabel('IRR values')\n",
        "plt.ylabel('Probability density/%')\n",
        "plt.title('Histogram of normal distribution sample with n=15000')"
      ],
      "metadata": {
        "colab": {
          "base_uri": "https://localhost:8080/",
          "height": 489
        },
        "id": "SvrNbpDnWCXr",
        "outputId": "dcfbd03c-1a8f-4d50-926c-f32db6ec9725"
      },
      "execution_count": 164,
      "outputs": [
        {
          "output_type": "execute_result",
          "data": {
            "text/plain": [
              "Text(0.5, 1.0, 'Histogram of normal distribution sample with n=15000')"
            ]
          },
          "metadata": {},
          "execution_count": 164
        },
        {
          "output_type": "display_data",
          "data": {
            "text/plain": [
              "<Figure size 640x480 with 1 Axes>"
            ],
            "image/png": "[encoded data removed]"
          },
          "metadata": {}
        }
      ]
    },
    {
      "cell_type": "markdown",
      "source": [
        "Now the distribution is more centralized and around IRR=20%, and it's more like a tailed distribution with right side a long tail. With both sides have some extreme case close to 0 and 1. Afyer the hedging, IRR (internal rate of returns)gets boosted significantly."
      ],
      "metadata": {
        "id": "FcZwaMS3WYb-"
      }
    },
    {
      "cell_type": "markdown",
      "source": [
        "Finish at 10:45"
      ],
      "metadata": {
        "id": "RUsvdtKpXDF1"
      }
    },
    {
      "cell_type": "markdown",
      "source": [
        "In total, used roughly 6 hours 45 mins in total to finish."
      ],
      "metadata": {
        "id": "FbmLYrtriHyP"
      }
    }
  ]
}